{
 "cells": [
  {
   "cell_type": "markdown",
   "id": "f1c4b568",
   "metadata": {},
   "source": [
    "Q1. What is the distinction between a numpy array and a pandas data frame? Is there a way to\n",
    "    convert between the two if there is?\n",
    "   \n",
    "Numpy:\n",
    "\n",
    "    1. The powerful tool of numpy is Arrays.\n",
    "    2. Indexing of numpy Arrays is very fast.\n",
    "    3. It has provides a lot of convenient and optimized methods for performing several mathematical operations on vectors.\n",
    "    \n",
    "Pandas:\n",
    "\n",
    "    1. The powerful tools of pandas are Data frame and Series.\n",
    "    2. Indexing of the pandas series is very slow as compared to numpy arrays.\n",
    "    3. it can be seen as a spreadsheet having rows and columns.\n",
    "conversion:\n",
    "    Dataframe=pandas.DataFrame(array)"
   ]
  },
  {
   "cell_type": "code",
   "execution_count": 1,
   "id": "90cdc074",
   "metadata": {},
   "outputs": [],
   "source": [
    "import pandas as pd \n",
    "import numpy as np"
   ]
  },
  {
   "cell_type": "code",
   "execution_count": 4,
   "id": "69a8f90a",
   "metadata": {},
   "outputs": [],
   "source": [
    "# array in numpy \n",
    "arr = np.array([[23, 46, 85],\n",
    "                [43, 56, 99],\n",
    "                [11, 34, 55]])\n"
   ]
  },
  {
   "cell_type": "code",
   "execution_count": 3,
   "id": "576a8b93",
   "metadata": {},
   "outputs": [
    {
     "name": "stdout",
     "output_type": "stream",
     "text": [
      "[[23 46 85]\n",
      " [43 56 99]\n",
      " [11 34 55]]\n"
     ]
    }
   ],
   "source": [
    "print(arr)"
   ]
  },
  {
   "cell_type": "code",
   "execution_count": 6,
   "id": "114357f7",
   "metadata": {},
   "outputs": [],
   "source": [
    "# converting numpy array into pandas data frame:\n",
    "Dataframe=pd.DataFrame(arr)"
   ]
  },
  {
   "cell_type": "code",
   "execution_count": 7,
   "id": "c45b361a",
   "metadata": {},
   "outputs": [
    {
     "data": {
      "text/html": [
       "<div>\n",
       "<style scoped>\n",
       "    .dataframe tbody tr th:only-of-type {\n",
       "        vertical-align: middle;\n",
       "    }\n",
       "\n",
       "    .dataframe tbody tr th {\n",
       "        vertical-align: top;\n",
       "    }\n",
       "\n",
       "    .dataframe thead th {\n",
       "        text-align: right;\n",
       "    }\n",
       "</style>\n",
       "<table border=\"1\" class=\"dataframe\">\n",
       "  <thead>\n",
       "    <tr style=\"text-align: right;\">\n",
       "      <th></th>\n",
       "      <th>0</th>\n",
       "      <th>1</th>\n",
       "      <th>2</th>\n",
       "    </tr>\n",
       "  </thead>\n",
       "  <tbody>\n",
       "    <tr>\n",
       "      <th>0</th>\n",
       "      <td>23</td>\n",
       "      <td>46</td>\n",
       "      <td>85</td>\n",
       "    </tr>\n",
       "    <tr>\n",
       "      <th>1</th>\n",
       "      <td>43</td>\n",
       "      <td>56</td>\n",
       "      <td>99</td>\n",
       "    </tr>\n",
       "    <tr>\n",
       "      <th>2</th>\n",
       "      <td>11</td>\n",
       "      <td>34</td>\n",
       "      <td>55</td>\n",
       "    </tr>\n",
       "  </tbody>\n",
       "</table>\n",
       "</div>"
      ],
      "text/plain": [
       "    0   1   2\n",
       "0  23  46  85\n",
       "1  43  56  99\n",
       "2  11  34  55"
      ]
     },
     "execution_count": 7,
     "metadata": {},
     "output_type": "execute_result"
    }
   ],
   "source": [
    "Dataframe"
   ]
  },
  {
   "cell_type": "markdown",
   "id": "d237fad1",
   "metadata": {},
   "source": [
    "Q2. Identify some of the plotting techniques that are used to produce a stock-market chart ?\n",
    "\n",
    "Ans: Bar chart, Line Chart are used for plotting.\n"
   ]
  },
  {
   "cell_type": "markdown",
   "id": "0c164573",
   "metadata": {},
   "source": [
    "Q3. Why is it essential to print a legend on a stock market chart?\n",
    "\n",
    "Legend will help comparison between different stocks, so will be essential on a stock market chart"
   ]
  },
  {
   "cell_type": "markdown",
   "id": "677a5b36",
   "metadata": {},
   "source": [
    "Q4. What is the best way to limit the length of a pandas data frame to less than a year ?\n",
    "\n",
    "We can use start and end parameters for that. In start we write the date from where we are starting and at the end we write the end date. SO within this span we can restric the duration.Also we can use the parameters like periods for how much times we need the duration and we can also use the frequency parameter.\n"
   ]
  },
  {
   "cell_type": "markdown",
   "id": "0c6bd623",
   "metadata": {},
   "source": [
    "# Q5. What is the definition of a 180-day moving average ?\n",
    "\n",
    "Ans: : The 180-day moving average is represented as a line on charts and represents the average price over the past 180 days. The moving average can give traders a sense regarding whether the trend is up or down, while also identifying potential support or resistance areas."
   ]
  },
  {
   "cell_type": "markdown",
   "id": "83c0f2e3",
   "metadata": {},
   "source": [
    "6. What is the definition of a 180-day moving average?\n",
    "\n",
    "A 180-day moving average is a type of technical indicator used in financial analysis that calculates the average price of a security over the past 180 trading days. The moving average is recalculated continuously over time, providing a smoothed trend line of the security's price performance. The 180-day moving average is often used as a long-term trend indicator, helping analysts to identify major price trends and potential reversals."
   ]
  },
  {
   "cell_type": "markdown",
   "id": "f19ab8e8",
   "metadata": {},
   "source": [
    "7. Did the chapter&#39;s final example use &quot;indirect&quot; importing? If so, how exactly do you do it?\n",
    "\n",
    "Yes, the chapter's final example uses \"indirect\" importing. Indirect importing is achieved by creating an empty `__init__.py` file in the directory that you want to import from, and then importing the desired module(s) in that `__init__.py` file using relative imports.\n",
    "\n",
    "For example, if you have the following directory structure:\n",
    "\n",
    "```\n",
    "my_package/\n",
    "    __init__.py\n",
    "    module_a.py\n",
    "    module_b.py\n",
    "    subdir/\n",
    "        __init__.py\n",
    "        module_c.py\n",
    "```\n",
    "\n",
    "To import `module_c` from `module_a`, you would need to add the following import statement to `my_package/subdir/__init__.py`:\n",
    "\n",
    "```python\n",
    "from ..module_b import some_function\n",
    "```\n",
    "\n",
    "Then in `module_a`, you can import `some_function` from `module_c` like this:\n",
    "\n",
    "```python\n",
    "from my_package.subdir import some_function\n",
    "``` \n",
    "\n",
    "This way, you can import the desired module(s) directly from the package, without having to import them individually from their respective subdirectories."
   ]
  },
  {
   "cell_type": "code",
   "execution_count": null,
   "id": "99dd1eba",
   "metadata": {},
   "outputs": [],
   "source": []
  }
 ],
 "metadata": {
  "kernelspec": {
   "display_name": "Python 3 (ipykernel)",
   "language": "python",
   "name": "python3"
  },
  "language_info": {
   "codemirror_mode": {
    "name": "ipython",
    "version": 3
   },
   "file_extension": ".py",
   "mimetype": "text/x-python",
   "name": "python",
   "nbconvert_exporter": "python",
   "pygments_lexer": "ipython3",
   "version": "3.9.7"
  }
 },
 "nbformat": 4,
 "nbformat_minor": 5
}
