{
 "cells": [
  {
   "cell_type": "markdown",
   "id": "430c4352",
   "metadata": {},
   "source": [
    "1. What are the benefits of the built-in array package, if any?"
   ]
  },
  {
   "cell_type": "markdown",
   "id": "cc068b02",
   "metadata": {},
   "source": [
    "2. What are some of the array package&#39;s limitations?"
   ]
  },
  {
   "cell_type": "markdown",
   "id": "780a402c",
   "metadata": {},
   "source": [
    "3. Describe the main differences between the array and numpy packages."
   ]
  },
  {
   "cell_type": "markdown",
   "id": "5e2d783b",
   "metadata": {},
   "source": [
    "4. Explain the distinctions between the empty, ones, and zeros functions."
   ]
  },
  {
   "cell_type": "markdown",
   "id": "d45f1de2",
   "metadata": {},
   "source": []
  },
  {
   "cell_type": "markdown",
   "id": "ca286e00",
   "metadata": {},
   "source": []
  },
  {
   "cell_type": "markdown",
   "id": "399546cb",
   "metadata": {},
   "source": []
  },
  {
   "cell_type": "markdown",
   "id": "f4bac662",
   "metadata": {},
   "source": []
  },
  {
   "cell_type": "markdown",
   "id": "5c830d03",
   "metadata": {},
   "source": []
  },
  {
   "cell_type": "markdown",
   "id": "cf74212c",
   "metadata": {},
   "source": []
  },
  {
   "cell_type": "markdown",
   "id": "e9d668a2",
   "metadata": {},
   "source": []
  },
  {
   "cell_type": "markdown",
   "id": "e4a45d99",
   "metadata": {},
   "source": []
  },
  {
   "cell_type": "markdown",
   "id": "93583f2c",
   "metadata": {},
   "source": []
  }
 ],
 "metadata": {
  "kernelspec": {
   "display_name": "Python 3 (ipykernel)",
   "language": "python",
   "name": "python3"
  },
  "language_info": {
   "codemirror_mode": {
    "name": "ipython",
    "version": 3
   },
   "file_extension": ".py",
   "mimetype": "text/x-python",
   "name": "python",
   "nbconvert_exporter": "python",
   "pygments_lexer": "ipython3",
   "version": "3.9.7"
  }
 },
 "nbformat": 4,
 "nbformat_minor": 5
}
