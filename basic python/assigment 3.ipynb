{
 "cells": [
  {
   "cell_type": "markdown",
   "id": "931f6cfd",
   "metadata": {},
   "source": [
    "1. Why are functions advantageous to have in your programs?\n",
    "\n",
    "            1. Reduces the coding time\n",
    "        2. Easier to Debug\n",
    "        3. Reusable Code\n",
    "        4. Readability\n",
    "        5. Reliability"
   ]
  },
  {
   "cell_type": "markdown",
   "id": "2cdd6232",
   "metadata": {},
   "source": [
    "2. When does the code in a function run: when it's specified or when it's called?\n",
    "\n",
    "        The code in a function executes when the function is called"
   ]
  },
  {
   "cell_type": "markdown",
   "id": "963af9a1",
   "metadata": {},
   "source": [
    "3. What statement creates a function?\n",
    "\n",
    "        'def' statemant creates a function\n"
   ]
  },
  {
   "cell_type": "markdown",
   "id": "2b767220",
   "metadata": {},
   "source": [
    "4. What is the difference between a function and a function call?\n",
    "\n",
    "        A function consists of the def statement and the code in its def clause.\n",
    "\n",
    "        A function call is what moves the program execution into the function, and the function call evaluates to the function’s return value."
   ]
  },
  {
   "cell_type": "markdown",
   "id": "654c18b4",
   "metadata": {},
   "source": [
    "5. How many global scopes are there in a Python program? How many local scopes?\n",
    "\n",
    "        global scope :A variable created in the main body of the Python code is a global variable and belongs to the global scope.\n",
    "        there is only one global scope\n",
    "\n",
    "        local scope : A variable created inside a function belongs to the local scope of that function, and can only be used inside that function. it can be as many as we want"
   ]
  },
  {
   "cell_type": "markdown",
   "id": "cc679955",
   "metadata": {},
   "source": [
    "6. What happens to variables in a local scope when the function call returns?\n",
    "     \n",
    "         When a function returns, the local scope is destroyed, and all the variables in it are forgotten."
   ]
  },
  {
   "cell_type": "markdown",
   "id": "e260785a",
   "metadata": {},
   "source": [
    "7. What is the concept of a return value? Is it possible to have a return value in an expression?\n",
    "\n",
    "        A return statement is used to end the execution of the function call and “returns” the result \n",
    "        Return value can be used in any expression out of the function"
   ]
  },
  {
   "cell_type": "markdown",
   "id": "ca71fe2f",
   "metadata": {},
   "source": [
    "8. If a function does not have a return statement, what is the return value of a call to that function?\n",
    "\n",
    "        it will return 'NONE'"
   ]
  },
  {
   "cell_type": "markdown",
   "id": "4eee8480",
   "metadata": {},
   "source": [
    "9. How do you make a function variable refer to the global variable?\n",
    "\n",
    "        "
   ]
  },
  {
   "cell_type": "markdown",
   "id": "5e728170",
   "metadata": {},
   "source": [
    "10. What is the data type of None?\n",
    "\n",
    "        Data type of none is \"Nonetype\" "
   ]
  },
  {
   "cell_type": "markdown",
   "id": "4957ffd3",
   "metadata": {},
   "source": [
    "11. What does the sentence import areallyourpetsnamederic do?\n",
    "\n",
    "        it will import areallyourpetsnamederic named module "
   ]
  },
  {
   "cell_type": "markdown",
   "id": "85d1b724",
   "metadata": {},
   "source": [
    "12. If you had a bacon() feature in a spam module, what would you call it after importing spam?\n",
    "\n",
    "        from spam import bacon()"
   ]
  },
  {
   "cell_type": "code",
   "execution_count": null,
   "id": "492af1f6",
   "metadata": {},
   "outputs": [],
   "source": []
  }
 ],
 "metadata": {
  "kernelspec": {
   "display_name": "Python 3 (ipykernel)",
   "language": "python",
   "name": "python3"
  },
  "language_info": {
   "codemirror_mode": {
    "name": "ipython",
    "version": 3
   },
   "file_extension": ".py",
   "mimetype": "text/x-python",
   "name": "python",
   "nbconvert_exporter": "python",
   "pygments_lexer": "ipython3",
   "version": "3.9.7"
  }
 },
 "nbformat": 4,
 "nbformat_minor": 5
}
