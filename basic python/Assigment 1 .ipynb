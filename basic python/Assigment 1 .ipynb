{
 "cells": [
  {
   "cell_type": "markdown",
   "id": "d9dad50a",
   "metadata": {},
   "source": [
    "# python basics assigment 1"
   ]
  },
  {
   "cell_type": "markdown",
   "id": "c0e209cf",
   "metadata": {},
   "source": [
    "(1) In the below elements which of them are values or an expression? eg:- values can be\n",
    "integer or string and expressions will be mathematical operators.\n",
    "\n",
    "Answer:\n",
    "\n",
    "values : 'hello' , -87.6\n",
    "\n",
    "expression : * , /, - , +"
   ]
  },
  {
   "cell_type": "markdown",
   "id": "a2aaa4cb",
   "metadata": {},
   "source": [
    "2) What is the difference between string and variable?\n",
    "\n",
    "string : A string is a literal text string, i.e. 'Hello'.\n",
    "\n",
    "Variable: A variable is something that stores data    \n",
    "             it can store a string, int, float, class, etc."
   ]
  },
  {
   "cell_type": "markdown",
   "id": "bd0ddbcc",
   "metadata": {},
   "source": [
    "3)  Describe three different data types.\n",
    "\n",
    "ans:\n",
    "\n",
    " 1) Integer: whole number in programming. e.g = 1,2,..etc\n",
    " \n",
    " 2) charater : alphabet letters denote characters.\n",
    " \n",
    " 3) float : decimal values is called as float usually they are 4 bytes. e.g = 1.2, 2.3 , 4.55..etc"
   ]
  },
  {
   "cell_type": "markdown",
   "id": "3423cb98",
   "metadata": {},
   "source": [
    "4)What is an expression made up of? What do all expressions do?\n",
    "ans:\n",
    "    \n",
    "    Expression: An expression is a combination of operators, constants and variables. \\\n",
    "        An expression may consist of one or more operands, and zero or more operators to produce a value"
   ]
  },
  {
   "cell_type": "markdown",
   "id": "cd71bf7a",
   "metadata": {},
   "source": [
    "5) This assignment statements, like spam = 10. What is the difference between an\n",
    "expression and a statement?\n",
    "\n",
    "ANS : \n",
    "\n",
    "the statement is an string\n",
    "\n",
    "spam = 10 \n",
    "this express that \"spam\" is variable and assign the value \"10\" to it where 10 is interger value.\n"
   ]
  },
  {
   "cell_type": "markdown",
   "id": "9a28b949",
   "metadata": {},
   "source": [
    "6) After running the following code, what does the variable bacon contain?\n",
    "bacon = 22\n",
    "bacon + 1\n",
    "\n",
    "ans: \n",
    "\n",
    "bacon is variable and assign as 22 \n",
    "\n",
    "lets rewite this expression in another way is bacon +1:\n",
    "\n",
    "bacon = bacon +1\n",
    "\n",
    "so the answer of the above expression is \"23\""
   ]
  },
  {
   "cell_type": "markdown",
   "id": "308fd52f",
   "metadata": {},
   "source": [
    "7)What should the values of the following two terms be?\n",
    "  1) 'spam' + 'spamspam' == 'spamspamspam'\n",
    "  \n",
    "  2) 'spam'*3 == 'spamspamspam'\n",
    "  \n",
    "above both expression is same ."
   ]
  },
  {
   "cell_type": "markdown",
   "id": "5cb85702",
   "metadata": {},
   "source": [
    "8) Why is eggs a valid variable name while 100 is invalid?\n",
    "\n",
    "because 100 is interger value so it can not be a variable and egg is char so it can be variable :\n",
    "\n",
    "variable cannot starts with interger and start with a letter or the underscore character.\n",
    "\n",
    "variable on contain contain alpha-numeric characters and underscores (A-z, 0-9, & _ )."
   ]
  },
  {
   "cell_type": "markdown",
   "id": "7b3366b2",
   "metadata": {},
   "source": [
    "9) What three functions can be used to get the integer, floating-point number, or string\n",
    "version of a value?\n",
    "\n",
    "The int(),float(),and str() functions will evaluate to the integer,floating-point number,string version of the value passed to them."
   ]
  },
  {
   "cell_type": "markdown",
   "id": "6f75b319",
   "metadata": {},
   "source": [
    "10) Why does this expression cause an error? How can you fix it?\n",
    "'I have eaten' + 99 +' burritos.'"
   ]
  },
  {
   "cell_type": "code",
   "execution_count": 4,
   "id": "384346b4",
   "metadata": {},
   "outputs": [
    {
     "ename": "TypeError",
     "evalue": "can only concatenate str (not \"int\") to str",
     "output_type": "error",
     "traceback": [
      "\u001b[1;31m---------------------------------------------------------------------------\u001b[0m",
      "\u001b[1;31mTypeError\u001b[0m                                 Traceback (most recent call last)",
      "\u001b[1;32mC:\\Users\\SUMEET~1\\AppData\\Local\\Temp/ipykernel_22544/3440687901.py\u001b[0m in \u001b[0;36m<module>\u001b[1;34m\u001b[0m\n\u001b[1;32m----> 1\u001b[1;33m \u001b[1;34m'I have eaten'\u001b[0m \u001b[1;33m+\u001b[0m \u001b[1;36m99\u001b[0m \u001b[1;33m+\u001b[0m\u001b[1;34m' burritos.'\u001b[0m\u001b[1;33m\u001b[0m\u001b[1;33m\u001b[0m\u001b[0m\n\u001b[0m",
      "\u001b[1;31mTypeError\u001b[0m: can only concatenate str (not \"int\") to str"
     ]
    }
   ],
   "source": [
    "'I have eaten' + 99 +' burritos.'"
   ]
  },
  {
   "cell_type": "code",
   "execution_count": 5,
   "id": "9179bdf1",
   "metadata": {},
   "outputs": [
    {
     "data": {
      "text/plain": [
       "'I have eaten99 burritos.'"
      ]
     },
     "execution_count": 5,
     "metadata": {},
     "output_type": "execute_result"
    }
   ],
   "source": [
    "#correct way of writting is \n",
    "'I have eaten' + '99' +' burritos.'"
   ]
  },
  {
   "cell_type": "code",
   "execution_count": null,
   "id": "84018a9f",
   "metadata": {},
   "outputs": [],
   "source": []
  }
 ],
 "metadata": {
  "kernelspec": {
   "display_name": "Python 3 (ipykernel)",
   "language": "python",
   "name": "python3"
  },
  "language_info": {
   "codemirror_mode": {
    "name": "ipython",
    "version": 3
   },
   "file_extension": ".py",
   "mimetype": "text/x-python",
   "name": "python",
   "nbconvert_exporter": "python",
   "pygments_lexer": "ipython3",
   "version": "3.9.7"
  }
 },
 "nbformat": 4,
 "nbformat_minor": 5
}
