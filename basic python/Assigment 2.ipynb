{
 "cells": [
  {
   "cell_type": "markdown",
   "id": "76ed4c4c",
   "metadata": {},
   "source": [
    "1)What are the two values of the Boolean data type? How do you write them?\n",
    "\n",
    "\n",
    "\n",
    "    1) true \n",
    "    2) false \n",
    "    \n",
    "    both are written in T and F are in capital letter and where all rest letter are written lower letter\n",
    " "
   ]
  },
  {
   "cell_type": "markdown",
   "id": "bbcfcf24",
   "metadata": {},
   "source": [
    "2. What are the three different types of Boolean operators?\n",
    "\n",
    "ANS :\n",
    "    1) AND \n",
    "    2) OR\n",
    "    3) NOT"
   ]
  },
  {
   "cell_type": "code",
   "execution_count": 1,
   "id": "199789f8",
   "metadata": {},
   "outputs": [
    {
     "name": "stdout",
     "output_type": "stream",
     "text": [
      "True\n",
      "True\n",
      "False\n"
     ]
    }
   ],
   "source": [
    "a= 200\n",
    "b = 210\n",
    "print(a>50 and b>200) \n",
    "print(a>200 or b>200) \n",
    "print(not(a>10)) "
   ]
  },
  {
   "cell_type": "markdown",
   "id": "ed74a4d7",
   "metadata": {},
   "source": [
    "3. Make a list of each Boolean operator truth tables (i.e. every possible combination of Boolean\n",
    "values for the operator and what it evaluate ).\n",
    "\n",
    "\n",
    "    \n",
    "    and truth table :\n",
    "        true and true = true\n",
    "        true and false = false\n",
    "        false and true = false \n",
    "        false and false = false\n",
    "    or truth table :\n",
    "        true or true = true\n",
    "        true or false = true\n",
    "        false or true = true \n",
    "        false or false = false\n",
    "    not truth table :\n",
    "        True not is False \n",
    "        False not is True\n",
    "        "
   ]
  },
  {
   "cell_type": "code",
   "execution_count": 2,
   "id": "dfb65347",
   "metadata": {},
   "outputs": [
    {
     "name": "stdout",
     "output_type": "stream",
     "text": [
      "False\n",
      "False\n",
      "True\n",
      "False\n",
      "False\n",
      "True\n"
     ]
    }
   ],
   "source": [
    "# 3.What are the values of the following expressions?\n",
    "print((5 > 4) and (3 == 5))\n",
    "print(not (5 > 4))\n",
    "print((5 > 4) or (3 == 5))\n",
    "print(not ((5 > 4) or (3 == 5)))\n",
    "print((True and True) and (True == False))\n",
    "print((not False) or (not True))"
   ]
  },
  {
   "cell_type": "markdown",
   "id": "7cdba054",
   "metadata": {},
   "source": [
    "5. What are the six comparison operators?\n",
    "\n",
    "\n",
    "    1. less then (<) (a<b)\n",
    "    2. greater then (>) (a>b)\n",
    "    3. equal to (==) (a==b)\n",
    "    4. less then or equal (<=) (a<=b)\n",
    "    5. greater than or equal (>=) (a>=b)\n",
    "    6. Not equal to (!=) (a!=b)\n"
   ]
  },
  {
   "cell_type": "markdown",
   "id": "f8ba8b8f",
   "metadata": {},
   "source": [
    "6. How do you tell the difference between the equal to and assignment operators?Describe a\n",
    "condition and when you would use one.\n",
    "\n",
    "ans:\n",
    "    equal to (==) is used for comparision between to variable where as (=) this is used for assign a value to a variable.\n",
    "\n",
    "example:\n",
    "    a=5\n",
    "    if (a==5):\n",
    "        print(\"hello world\")"
   ]
  },
  {
   "cell_type": "code",
   "execution_count": 3,
   "id": "82ce3a68",
   "metadata": {},
   "outputs": [
    {
     "name": "stdout",
     "output_type": "stream",
     "text": [
      "hello world\n"
     ]
    }
   ],
   "source": [
    "\n",
    "    a=5\n",
    "    if (a==5):\n",
    "        print(\"hello world\")"
   ]
  },
  {
   "cell_type": "code",
   "execution_count": 8,
   "id": "996f8183",
   "metadata": {},
   "outputs": [
    {
     "name": "stdout",
     "output_type": "stream",
     "text": [
      "ham\n",
      "spam\n",
      "spam\n"
     ]
    }
   ],
   "source": [
    "spam = 0\n",
    "if spam == 10:\n",
    "    print('eggs')\n",
    "elif spam > 5:\n",
    "    print('bacon')\n",
    "else:\n",
    "    print('ham')\n",
    "    print('spam')\n",
    "    print('spam')"
   ]
  },
  {
   "cell_type": "code",
   "execution_count": 7,
   "id": "7d6961e9",
   "metadata": {},
   "outputs": [
    {
     "name": "stdout",
     "output_type": "stream",
     "text": [
      "2\n",
      "Howdy\n"
     ]
    }
   ],
   "source": [
    "'''8. Write code that prints Hello if 1 is stored in spam, prints Howdy if 2 is stored in spam, and prints\n",
    "Greetings! if anything else is stored in spam.'''\n",
    "spam = int(input())\n",
    "if (spam == 1):\n",
    "    print('Hello')\n",
    "elif (spam ==2):\n",
    "    print(\"Howdy\")\n",
    "else:\n",
    "    print(\"Greetings\")"
   ]
  },
  {
   "cell_type": "markdown",
   "id": "9c3c5a49",
   "metadata": {},
   "source": [
    "9.If your programme is stuck in an endless loop, what keys you’ll press?\n",
    "\n",
    "\n",
    "\n",
    "ctrl - c"
   ]
  },
  {
   "cell_type": "markdown",
   "id": "2a91204f",
   "metadata": {},
   "source": [
    "10. How can you tell the difference between break and continue?\n",
    "\n",
    "\n",
    "\n",
    "break = will move the execution outside the loop if break condtion is satisfied.\n",
    "\n",
    "continue = will move the execution to the start of the loop."
   ]
  },
  {
   "cell_type": "markdown",
   "id": "1aa53a9d",
   "metadata": {},
   "source": [
    "\n",
    "'11. In a for loop, what is the difference between range(10), range(0, 10), and range(0, 10, 1)?'\n",
    "\n",
    "print(range(10)) # it will print number starting from 0 to 9 \n",
    "print(range(0,10)) explicitly tells the loop to start at 0\n",
    "print(range(0,10,1))explicitly tells the loop to increase the variable by 1 on each iteration"
   ]
  },
  {
   "cell_type": "markdown",
   "id": "c699878b",
   "metadata": {},
   "source": [
    "13. If you had a function named bacon() inside a module named spam, how would you call it after importing spam ?\n",
    "\n",
    "Ans: This function can be called with spam.bacon()"
   ]
  },
  {
   "cell_type": "code",
   "execution_count": null,
   "id": "0ba4756d",
   "metadata": {},
   "outputs": [],
   "source": []
  }
 ],
 "metadata": {
  "kernelspec": {
   "display_name": "Python 3 (ipykernel)",
   "language": "python",
   "name": "python3"
  },
  "language_info": {
   "codemirror_mode": {
    "name": "ipython",
    "version": 3
   },
   "file_extension": ".py",
   "mimetype": "text/x-python",
   "name": "python",
   "nbconvert_exporter": "python",
   "pygments_lexer": "ipython3",
   "version": "3.9.7"
  }
 },
 "nbformat": 4,
 "nbformat_minor": 5
}
