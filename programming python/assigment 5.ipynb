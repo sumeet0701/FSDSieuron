{
 "cells": [
  {
   "cell_type": "markdown",
   "id": "3e2fa47c",
   "metadata": {},
   "source": [
    "Write a Python Program to Find LCM?"
   ]
  },
  {
   "cell_type": "code",
   "execution_count": 4,
   "id": "02731750",
   "metadata": {},
   "outputs": [
    {
     "name": "stdout",
     "output_type": "stream",
     "text": [
      "23\n",
      "24\n",
      "The L.C.M. is 552\n"
     ]
    }
   ],
   "source": [
    "def lcm(x, y):\n",
    "    if x > y:\n",
    "        great = x\n",
    "    else:\n",
    "        great = y\n",
    "\n",
    "    while(True):\n",
    "        if((great % x == 0) and (great % y == 0)):\n",
    "            lcm = great\n",
    "            break\n",
    "        great += 1\n",
    "\n",
    "    return lcm\n",
    "\n",
    "num1 = int(input())\n",
    "num2 = int(input())\n",
    "\n",
    "print(\"The L.C.M. is\", lcm(num1, num2))"
   ]
  },
  {
   "cell_type": "markdown",
   "id": "79b77021",
   "metadata": {},
   "source": [
    "Write a Python Program to Find HCF?"
   ]
  },
  {
   "cell_type": "code",
   "execution_count": 5,
   "id": "703c89db",
   "metadata": {},
   "outputs": [
    {
     "name": "stdout",
     "output_type": "stream",
     "text": [
      "12\n",
      "14\n",
      "The H.C.F. is 2\n"
     ]
    }
   ],
   "source": [
    "def hcf(x, y):\n",
    "    if x > y:\n",
    "        small= y\n",
    "    else:\n",
    "        small = x\n",
    "    for i in range(1, small+1):\n",
    "        if((x % i == 0) and (y % i == 0)):\n",
    "            hcf = i \n",
    "    return hcf\n",
    "\n",
    "num1 = int(input())\n",
    "num2 = int(input())\n",
    "print(\"The H.C.F. is\", hcf(num1, num2))"
   ]
  },
  {
   "cell_type": "markdown",
   "id": "6a3dd67e",
   "metadata": {},
   "source": [
    "Write a Python Program to Convert Decimal to Binary, Octal and Hexadecimal?"
   ]
  },
  {
   "cell_type": "code",
   "execution_count": 6,
   "id": "8649ce6b",
   "metadata": {},
   "outputs": [
    {
     "name": "stdout",
     "output_type": "stream",
     "text": [
      " Enter the Decimal Number: 12\n",
      "The given decimal number 12 in Binary number is:  0b1100\n",
      "The given decimal number 12 in Octal number is:  0o14\n",
      "The given decimal number 12  in Hexadecimal number is:  0xc\n"
     ]
    }
   ],
   "source": [
    "def dec_into_bin(number):  \n",
    "    decimal = int(number)  \n",
    "    print (\"The given decimal number\", decimal, \"in Binary number is: \", bin(decimal))  \n",
    "def dec_into_oct(number):  \n",
    "    decimal = int(number)  \n",
    "    print (\"The given decimal number\", decimal, \"in Octal number is: \", oct(decimal))  \n",
    "def dec_into_hex(number):  \n",
    "    decimal = int(number)  \n",
    "    print (\"The given decimal number\", decimal, \" in Hexadecimal number is: \", hex(decimal))  \n",
    "        \n",
    "number= int (input (\" Enter the Decimal Number: \"))  \n",
    "dec_into_bin(number)  \n",
    "dec_into_oct(number)  \n",
    "dec_into_hex(number)  "
   ]
  },
  {
   "cell_type": "markdown",
   "id": "da4798c5",
   "metadata": {},
   "source": [
    "Write a Python Program To Find ASCII value of a character?"
   ]
  },
  {
   "cell_type": "code",
   "execution_count": 10,
   "id": "8df62779",
   "metadata": {},
   "outputs": [
    {
     "name": "stdout",
     "output_type": "stream",
     "text": [
      "r\n",
      "The ASCII value of 'r' is 114\n"
     ]
    }
   ],
   "source": [
    "c = str(input())\n",
    "print(\"The ASCII value of '\" + c + \"' is\", ord(c))"
   ]
  },
  {
   "cell_type": "markdown",
   "id": "fa047ea3",
   "metadata": {},
   "source": [
    "Write a Python Program to Make a Simple Calculator with 4 basic mathematical operations?"
   ]
  },
  {
   "cell_type": "code",
   "execution_count": 1,
   "id": "83f0a953",
   "metadata": {},
   "outputs": [
    {
     "name": "stdout",
     "output_type": "stream",
     "text": [
      "Enter the number12\n",
      "Enter The number12\n",
      "select the operation from given 1) Addition , 2) Subtraction 3) Multipication 4) DivisionAddition\n",
      "12.0 + 12.0 = 24.0\n"
     ]
    }
   ],
   "source": [
    "a = float(input('Enter the number'))\n",
    "b = float(input(\"Enter The number\"))\n",
    "cmd=str(input(\"select the operation from given 1) Addition , 2) Subtraction 3) Multipication 4) Division\"))\n",
    "\n",
    "if cmd in ( 'Addition' ,  'Subtraction' ,'Multipication' ,'Division'):\n",
    "        \n",
    "\n",
    "        if cmd == 'Addition':\n",
    "            print(a, \"+\", b, \"=\", (a+ b))\n",
    "\n",
    "        elif cmd == 'Subtration':\n",
    "            print(a, \"-\", b, \"=\",(a- b))\n",
    "\n",
    "        elif cmd== 'Multipication':\n",
    "            print(a, \"*\", b, \"=\",(a* b))\n",
    "\n",
    "        elif cmd == 'Division':\n",
    "            print(a, \"/\",b, \"=\", a/b)"
   ]
  },
  {
   "cell_type": "code",
   "execution_count": null,
   "id": "67f8fe9e",
   "metadata": {},
   "outputs": [],
   "source": []
  }
 ],
 "metadata": {
  "kernelspec": {
   "display_name": "Python 3 (ipykernel)",
   "language": "python",
   "name": "python3"
  },
  "language_info": {
   "codemirror_mode": {
    "name": "ipython",
    "version": 3
   },
   "file_extension": ".py",
   "mimetype": "text/x-python",
   "name": "python",
   "nbconvert_exporter": "python",
   "pygments_lexer": "ipython3",
   "version": "3.9.7"
  }
 },
 "nbformat": 4,
 "nbformat_minor": 5
}
