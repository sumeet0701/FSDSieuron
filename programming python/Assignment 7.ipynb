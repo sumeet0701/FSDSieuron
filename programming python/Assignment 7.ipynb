{
 "cells": [
  {
   "cell_type": "code",
   "execution_count": 1,
   "id": "c65c6ca5",
   "metadata": {},
   "outputs": [
    {
     "name": "stdout",
     "output_type": "stream",
     "text": [
      "Sum of the array is: 15\n"
     ]
    }
   ],
   "source": [
    "# 1. Write a Python Program to find sum of array?\n",
    "# Define an array\n",
    "arr = [1, 2, 3, 4, 5]\n",
    "\n",
    "# Initialize sum\n",
    "sum = 0\n",
    "\n",
    "# Iterate over each element of the array and add it to the sum\n",
    "for i in arr:\n",
    "    sum += i\n",
    "\n",
    "# Print the sum\n",
    "print(\"Sum of the array is:\", sum)\n"
   ]
  },
  {
   "cell_type": "code",
   "execution_count": 2,
   "id": "a5dba604",
   "metadata": {},
   "outputs": [
    {
     "name": "stdout",
     "output_type": "stream",
     "text": [
      "The largest element in the array is: 9\n"
     ]
    }
   ],
   "source": [
    "# 2. Write a Python Program to find largest element in an array?\n",
    "# Function to find the largest element in an array\n",
    "def find_largest(arr):\n",
    "    # Initialize the first element as the largest\n",
    "    largest = arr[0]\n",
    "    \n",
    "    # Iterate through the array and compare each element with the current largest\n",
    "    for i in range(1, len(arr)):\n",
    "        if arr[i] > largest:\n",
    "            largest = arr[i]\n",
    "    \n",
    "    return largest\n",
    "\n",
    "# Example usage\n",
    "arr = [3, 5, 1, 9, 8]\n",
    "largest = find_largest(arr)\n",
    "print(\"The largest element in the array is:\", largest)\n"
   ]
  },
  {
   "cell_type": "code",
   "execution_count": 3,
   "id": "75b2a487",
   "metadata": {},
   "outputs": [
    {
     "name": "stdout",
     "output_type": "stream",
     "text": [
      "Rotated array is: [5, 6, 7, 1, 2, 3, 4]\n"
     ]
    }
   ],
   "source": [
    "# 3. Write a Python Program for array rotation?\n",
    "def rotate_array(arr, k):\n",
    "    n = len(arr)\n",
    "    # If k is greater than n, then take modulo\n",
    "    k = k % n\n",
    "    # Reverse first n-k elements\n",
    "    reverse_array(arr, 0, n-k-1)\n",
    "    # Reverse the last k elements\n",
    "    reverse_array(arr, n-k, n-1)\n",
    "    # Reverse the whole array\n",
    "    reverse_array(arr, 0, n-1)\n",
    "    \n",
    "def reverse_array(arr, start, end):\n",
    "    while start < end:\n",
    "        arr[start], arr[end] = arr[end], arr[start]\n",
    "        start += 1\n",
    "        end -= 1\n",
    "\n",
    "# Test the function\n",
    "arr = [1, 2, 3, 4, 5, 6, 7]\n",
    "k = 3\n",
    "rotate_array(arr, k)\n",
    "print(\"Rotated array is:\", arr)\n"
   ]
  },
  {
   "cell_type": "code",
   "execution_count": 4,
   "id": "dcb4f660",
   "metadata": {},
   "outputs": [
    {
     "name": "stdout",
     "output_type": "stream",
     "text": [
      "[3, 4, 5, 1, 2]\n"
     ]
    }
   ],
   "source": [
    "# 4. Write a Python Program to Split the array and add the first part to the end?\n",
    "\n",
    "def split_and_add(arr, index):\n",
    "    \"\"\"\n",
    "    Splits the array 'arr' at the given 'index' and adds the first part to the end\n",
    "    Returns the resulting array\n",
    "    \"\"\"\n",
    "    return arr[index:] + arr[:index]\n",
    "arr = [1, 2, 3, 4, 5]\n",
    "index = 2\n",
    "result = split_and_add(arr, index)\n",
    "print(result)\n"
   ]
  },
  {
   "cell_type": "code",
   "execution_count": 6,
   "id": "4af5aa4f",
   "metadata": {},
   "outputs": [],
   "source": [
    "# 5. Write a Python Program to check if given array is Monotonic?\n",
    "def is_monotonic(arr):\n",
    "    if len(arr) < 2:\n",
    "        return True\n",
    "\n",
    "    direction = 0\n",
    "    for i in range(1, len(arr)):\n",
    "        if arr[i] > arr[i - 1]:\n",
    "            if direction < 0:\n",
    "                return False\n",
    "            direction = 1\n",
    "        elif arr[i] < arr[i - 1]:\n",
    "            if direction > 0:\n",
    "                return False\n",
    "            direction = -1\n",
    "\n",
    "    return True\n"
   ]
  },
  {
   "cell_type": "code",
   "execution_count": null,
   "id": "651a0b2f",
   "metadata": {},
   "outputs": [],
   "source": []
  }
 ],
 "metadata": {
  "kernelspec": {
   "display_name": "Python 3 (ipykernel)",
   "language": "python",
   "name": "python3"
  },
  "language_info": {
   "codemirror_mode": {
    "name": "ipython",
    "version": 3
   },
   "file_extension": ".py",
   "mimetype": "text/x-python",
   "name": "python",
   "nbconvert_exporter": "python",
   "pygments_lexer": "ipython3",
   "version": "3.9.7"
  }
 },
 "nbformat": 4,
 "nbformat_minor": 5
}
