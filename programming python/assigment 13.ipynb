{
 "cells": [
  {
   "cell_type": "markdown",
   "id": "03b915f8",
   "metadata": {},
   "source": [
    "A website requires the users to input username and password to register. Write a program to\n",
    "check the validity of password input by users."
   ]
  },
  {
   "cell_type": "code",
   "execution_count": null,
   "id": "168e33fa",
   "metadata": {},
   "outputs": [],
   "source": [
    "password = input(\"Enter the Password\")\n",
    "lower , upper , digit, symbol =0,0,0,0\n",
    "if (len(password)>=8):\n",
    "    for i in password:\n",
    "        if (i.islower()):\n",
    "            lower=+1\n",
    "        if (i.isupper()):\n",
    "            upper =+1\n",
    "        if (i.isdigit()):\n",
    "            digit=+1\n",
    "        if (i==\"!\"or i=='@'or i=='$' or i=='_'or i=='#'or i=='%' or i=='&'):\n",
    "            symbol=+1\n",
    "if (lower>=1 and upper>=1 and symbol>=1 and digit>=1 and lower+symbol+upper+digit==len(password)):\n",
    "    print(\"Valid Password\")\n",
    "else:\n",
    "    print(\"Invalid Password\")"
   ]
  },
  {
   "cell_type": "code",
   "execution_count": null,
   "id": "34a4e7b7",
   "metadata": {},
   "outputs": [],
   "source": []
  }
 ],
 "metadata": {
  "kernelspec": {
   "display_name": "Python 3 (ipykernel)",
   "language": "python",
   "name": "python3"
  },
  "language_info": {
   "codemirror_mode": {
    "name": "ipython",
    "version": 3
   },
   "file_extension": ".py",
   "mimetype": "text/x-python",
   "name": "python",
   "nbconvert_exporter": "python",
   "pygments_lexer": "ipython3",
   "version": "3.9.7"
  }
 },
 "nbformat": 4,
 "nbformat_minor": 5
}
