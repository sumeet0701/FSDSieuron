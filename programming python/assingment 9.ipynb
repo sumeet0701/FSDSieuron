{
 "cells": [
  {
   "cell_type": "markdown",
   "id": "5371dae2",
   "metadata": {},
   "source": [
    "Write a Python program to check if the given number is a Disarium Number?"
   ]
  },
  {
   "cell_type": "code",
   "execution_count": 1,
   "id": "f47ade0d",
   "metadata": {},
   "outputs": [
    {
     "name": "stdout",
     "output_type": "stream",
     "text": [
      "Enter the number123\n",
      "The Sum of the Digits = 32\n",
      "123 is Not a Disarium Number.\n"
     ]
    }
   ],
   "source": [
    "number = int(input('Enter the number'))\n",
    "lenght = len(str(number))\n",
    "temp = number \n",
    "sum = 0\n",
    "reminder = 0\n",
    "while temp>0:\n",
    "    reminder = temp%10\n",
    "    sum = sum + int(reminder**lenght)\n",
    "    temp = temp//10\n",
    "    lenght = lenght-1\n",
    "print(\"The Sum of the Digits = %d\" %sum)\n",
    "if sum == number:\n",
    "    print(\"\\n%d is a Disarium Number.\" %number)\n",
    "else:\n",
    "    print(\"%d is Not a Disarium Number.\" %number)"
   ]
  },
  {
   "cell_type": "markdown",
   "id": "267d65fd",
   "metadata": {},
   "source": [
    "Write a Python program to print all disarium numbers between 1 to 100?"
   ]
  },
  {
   "cell_type": "code",
   "execution_count": 2,
   "id": "a27eacff",
   "metadata": {},
   "outputs": [
    {
     "name": "stdout",
     "output_type": "stream",
     "text": [
      "1\n",
      "2\n",
      "3\n",
      "4\n",
      "5\n",
      "6\n",
      "7\n",
      "8\n",
      "9\n",
      "25\n",
      "36\n"
     ]
    }
   ],
   "source": [
    "def sumOfDigits(number):\n",
    "    lenght = len(str(number))\n",
    "    temp = number \n",
    "    sum = 0\n",
    "    reminder = 0\n",
    "    while temp>0:\n",
    "        reminder = temp%10\n",
    "        sum = sum + int(reminder**lenght)\n",
    "        temp = temp//10\n",
    "        lenght = lenght-1\n",
    "        return sum\n",
    "for i in range(1,100):\n",
    "    result = sumOfDigits(i)\n",
    "    if(result == i):\n",
    "        print(i)"
   ]
  },
  {
   "cell_type": "markdown",
   "id": "a44b5215",
   "metadata": {},
   "source": [
    "Write a Python program to check if the given number is Happy Number?"
   ]
  },
  {
   "cell_type": "code",
   "execution_count": 3,
   "id": "f737a3de",
   "metadata": {},
   "outputs": [
    {
     "name": "stdout",
     "output_type": "stream",
     "text": [
      "Enter the number1234\n",
      "256\n"
     ]
    }
   ],
   "source": [
    "def happyNumber(number): \n",
    "    sum = 0\n",
    "    reminder = 0\n",
    "    while number>0:\n",
    "        reminder = number%10\n",
    "        sum = sum + int(reminder**reminder)\n",
    "        number = number//10\n",
    "        return sum\n",
    "\n",
    "num = int(input(\"Enter the number\"))\n",
    "\n",
    "a = happyNumber(num)\n",
    "print(a)\n"
   ]
  },
  {
   "cell_type": "code",
   "execution_count": 1,
   "id": "2f348ed8",
   "metadata": {},
   "outputs": [
    {
     "name": "stdout",
     "output_type": "stream",
     "text": [
      "1\n",
      "7\n",
      "10\n",
      "13\n",
      "19\n",
      "23\n",
      "28\n",
      "31\n",
      "32\n",
      "44\n",
      "49\n",
      "68\n",
      "70\n",
      "79\n",
      "82\n",
      "86\n",
      "91\n",
      "94\n",
      "97\n",
      "100\n"
     ]
    }
   ],
   "source": [
    "# 4. Write a Python program to print all happy numbers between 1 and 100?\n",
    "\n",
    "def is_happy_number(num):\n",
    "    \"\"\"Return True if num is a happy number, False otherwise.\"\"\"\n",
    "    seen = set()\n",
    "    while num != 1:\n",
    "        num = sum(int(digit)**2 for digit in str(num))\n",
    "        if num in seen:\n",
    "            return False\n",
    "        seen.add(num)\n",
    "    return True\n",
    "\n",
    "# Iterate through numbers from 1 to 100 and print happy numbers\n",
    "for num in range(1, 101):\n",
    "    if is_happy_number(num):\n",
    "        print(num)\n"
   ]
  },
  {
   "cell_type": "markdown",
   "id": "7a671ac4",
   "metadata": {},
   "source": [
    "5. Write a Python program to determine whether the given number is a Harshad Number?\n",
    "\n",
    "A Harshad number is a number that is divisible by the sum of its digits. To determine whether a given number is a Harshad number or not, we need to perform the following steps:\n",
    "\n",
    "1. Take the input number from the user.\n",
    "2. Compute the sum of the digits of the input number.\n",
    "3. Check if the input number is divisible by the sum of its digits.\n",
    "4. If the input number is divisible by the sum of its digits, then it is a Harshad number, else it is not.\n",
    "\n",
    "Here's the Python program to implement the above steps:\n",
    "\n",
    "```python\n",
    "num = int(input(\"Enter a number: \"))\n",
    "sum_of_digits = sum(map(int, str(num)))\n",
    "if num % sum_of_digits == 0:\n",
    "    print(num, \"is a Harshad number\")\n",
    "else:\n",
    "    print(num, \"is not a Harshad number\")\n",
    "```\n",
    "\n",
    "In this program, we first take the input number from the user using the `input()` function and convert it to an integer using the `int()` function. We then compute the sum of the digits of the input number using the `sum()` and `map()` functions. The `map()` function applies the `int()` function to each digit of the input number using the `str()` function to convert the input number to a string. Finally, we check if the input number is divisible by the sum of its digits using the modulo operator `%` and print the result accordingly."
   ]
  },
  {
   "cell_type": "code",
   "execution_count": null,
   "id": "5d5dda1f",
   "metadata": {},
   "outputs": [],
   "source": []
  }
 ],
 "metadata": {
  "kernelspec": {
   "display_name": "Python 3 (ipykernel)",
   "language": "python",
   "name": "python3"
  },
  "language_info": {
   "codemirror_mode": {
    "name": "ipython",
    "version": 3
   },
   "file_extension": ".py",
   "mimetype": "text/x-python",
   "name": "python",
   "nbconvert_exporter": "python",
   "pygments_lexer": "ipython3",
   "version": "3.9.7"
  }
 },
 "nbformat": 4,
 "nbformat_minor": 5
}
