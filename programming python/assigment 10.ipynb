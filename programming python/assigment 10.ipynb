{
 "cells": [
  {
   "cell_type": "code",
   "execution_count": 1,
   "id": "a3be2c47",
   "metadata": {},
   "outputs": [],
   "source": [
    "lst = [2,3,4,5,6,7,8,9,10,11,45,67,89]"
   ]
  },
  {
   "cell_type": "markdown",
   "id": "a699f322",
   "metadata": {},
   "source": [
    "Write a Python program to find sum of elements in list?"
   ]
  },
  {
   "cell_type": "code",
   "execution_count": 2,
   "id": "8b8d2255",
   "metadata": {},
   "outputs": [
    {
     "name": "stdout",
     "output_type": "stream",
     "text": [
      "266\n"
     ]
    }
   ],
   "source": [
    "sum = 0\n",
    "for i in range(0,len(lst)):\n",
    "    sum = sum+lst[i]\n",
    "print(sum)"
   ]
  },
  {
   "cell_type": "markdown",
   "id": "c060115e",
   "metadata": {},
   "source": [
    "Write a Python program to Multiply all numbers in the list?"
   ]
  },
  {
   "cell_type": "code",
   "execution_count": 3,
   "id": "dcf7ac59",
   "metadata": {},
   "outputs": [
    {
     "name": "stdout",
     "output_type": "stream",
     "text": [
      "10711074528000\n"
     ]
    }
   ],
   "source": [
    "mult = 1\n",
    "for i in range(0,len(lst)):\n",
    "    mult = mult*lst[i]\n",
    "print(mult)"
   ]
  },
  {
   "cell_type": "markdown",
   "id": "15af4ef9",
   "metadata": {},
   "source": [
    "Write a Python program to find smallest number in a list?"
   ]
  },
  {
   "cell_type": "code",
   "execution_count": 4,
   "id": "abce2ad5",
   "metadata": {},
   "outputs": [
    {
     "name": "stdout",
     "output_type": "stream",
     "text": [
      "[2]\n"
     ]
    }
   ],
   "source": [
    "lst.sort()\n",
    "print(lst[:1])"
   ]
  },
  {
   "cell_type": "markdown",
   "id": "bc717fc6",
   "metadata": {},
   "source": [
    "Write a Python program to find largest number in a list?"
   ]
  },
  {
   "cell_type": "code",
   "execution_count": 5,
   "id": "1c557aa7",
   "metadata": {},
   "outputs": [
    {
     "name": "stdout",
     "output_type": "stream",
     "text": [
      "89\n"
     ]
    }
   ],
   "source": [
    "lst.sort()\n",
    "print(lst[-1])"
   ]
  },
  {
   "cell_type": "markdown",
   "id": "371112df",
   "metadata": {},
   "source": [
    "Write a Python program to find second largest number in a list?"
   ]
  },
  {
   "cell_type": "code",
   "execution_count": 6,
   "id": "466cc4b9",
   "metadata": {},
   "outputs": [
    {
     "name": "stdout",
     "output_type": "stream",
     "text": [
      "67\n"
     ]
    }
   ],
   "source": [
    "lst.sort()\n",
    "print(lst[-2])"
   ]
  },
  {
   "cell_type": "markdown",
   "id": "b879b6ab",
   "metadata": {},
   "source": [
    "Write a Python program to find N largest elements from a list?"
   ]
  },
  {
   "cell_type": "code",
   "execution_count": 7,
   "id": "bf42da88",
   "metadata": {},
   "outputs": [
    {
     "name": "stdout",
     "output_type": "stream",
     "text": [
      "[89, 67, 45, 11]\n"
     ]
    }
   ],
   "source": [
    "def Nmaxelements(lst, n):\n",
    "    final_list = []\n",
    "    for i in range(0, n): \n",
    "        max1 = 0   \n",
    "        for j in range(len(lst)):     \n",
    "            if lst[j] > max1:\n",
    "                max1 = lst[j];             \n",
    "        lst.remove(max1);\n",
    "        final_list.append(max1)\n",
    "          \n",
    "    print(final_list)\n",
    "Nmaxelements(lst,4)"
   ]
  },
  {
   "cell_type": "code",
   "execution_count": 8,
   "id": "589c3d56",
   "metadata": {},
   "outputs": [
    {
     "name": "stdout",
     "output_type": "stream",
     "text": [
      "[2, 3, 4, 5, 6, 7, 8, 9, 10]\n"
     ]
    }
   ],
   "source": [
    "print(lst)"
   ]
  },
  {
   "cell_type": "markdown",
   "id": "621c5d5d",
   "metadata": {},
   "source": [
    "Write a Python program to print even numbers in a list?"
   ]
  },
  {
   "cell_type": "code",
   "execution_count": 9,
   "id": "4f7fb28a",
   "metadata": {},
   "outputs": [
    {
     "name": "stdout",
     "output_type": "stream",
     "text": [
      "[0, 2, 4, 6, 8]\n"
     ]
    }
   ],
   "source": [
    "new_lst = []\n",
    "for i in range(0,len(lst)):\n",
    "    if(lst[i]%2==0):\n",
    "        new_lst.append(i)\n",
    "print(new_lst)"
   ]
  },
  {
   "cell_type": "markdown",
   "id": "205cdaad",
   "metadata": {},
   "source": [
    "Write a Python program to print odd numbers in a List?"
   ]
  },
  {
   "cell_type": "code",
   "execution_count": 15,
   "id": "338e807b",
   "metadata": {},
   "outputs": [
    {
     "name": "stdout",
     "output_type": "stream",
     "text": [
      "[3, 5, 7, 9]\n"
     ]
    }
   ],
   "source": [
    "new_lst = []\n",
    "for i in range(0,len(lst)):\n",
    "    if(lst[i]%2 != 0):\n",
    "        new_lst.append(lst[i])\n",
    "print(new_lst)"
   ]
  },
  {
   "cell_type": "markdown",
   "id": "dbb6138e",
   "metadata": {},
   "source": [
    "Write a Python program to Remove empty List from List?"
   ]
  },
  {
   "cell_type": "code",
   "execution_count": 14,
   "id": "6d8f31c1",
   "metadata": {},
   "outputs": [
    {
     "name": "stdout",
     "output_type": "stream",
     "text": [
      "[2, 3, 4, 5, 6, 8, 12, 15]\n"
     ]
    }
   ],
   "source": [
    "lis = [2,3,4,5,[],6,[],8,[],[],12,15]\n",
    "newlst=[]print\n",
    "for i in range(0,len(lis)):\n",
    "    if (lis[i] != []):\n",
    "        newlst.append(lis[i])\n",
    "print(newlst)\n",
    "        "
   ]
  },
  {
   "cell_type": "markdown",
   "id": "b0629293",
   "metadata": {},
   "source": [
    "Write a Python program to Cloning or Copying a list?"
   ]
  },
  {
   "cell_type": "code",
   "execution_count": 19,
   "id": "2907016d",
   "metadata": {},
   "outputs": [
    {
     "name": "stdout",
     "output_type": "stream",
     "text": [
      "[2, 3, 4, 5, 6, 7, 8, 9, 10]\n",
      "[2, 3, 4, 5, 6, 7, 8, 9, 10]\n"
     ]
    }
   ],
   "source": [
    "newList = lst.copy()\n",
    "print(lst)\n",
    "print(newList)"
   ]
  },
  {
   "cell_type": "markdown",
   "id": "447e8d47",
   "metadata": {},
   "source": [
    "Write a Python program to Count occurrences of an element in a list?"
   ]
  },
  {
   "cell_type": "code",
   "execution_count": 21,
   "id": "b1f4b265",
   "metadata": {},
   "outputs": [
    {
     "data": {
      "text/plain": [
       "5"
      ]
     },
     "execution_count": 21,
     "metadata": {},
     "output_type": "execute_result"
    }
   ],
   "source": [
    "List = [1,1,2,3,4,4,4,4,4,5,5,5,6,6,7,78,8,99,34,34,44,343,4444,334]\n",
    "def counter(lst , number):\n",
    "    count =0\n",
    "    for i in lst:\n",
    "        if(i == number):\n",
    "            count = count+1\n",
    "    return count\n",
    "counter(List,4)"
   ]
  },
  {
   "cell_type": "code",
   "execution_count": null,
   "id": "935bbdf6",
   "metadata": {},
   "outputs": [],
   "source": []
  }
 ],
 "metadata": {
  "kernelspec": {
   "display_name": "Python 3 (ipykernel)",
   "language": "python",
   "name": "python3"
  },
  "language_info": {
   "codemirror_mode": {
    "name": "ipython",
    "version": 3
   },
   "file_extension": ".py",
   "mimetype": "text/x-python",
   "name": "python",
   "nbconvert_exporter": "python",
   "pygments_lexer": "ipython3",
   "version": "3.9.7"
  }
 },
 "nbformat": 4,
 "nbformat_minor": 5
}
