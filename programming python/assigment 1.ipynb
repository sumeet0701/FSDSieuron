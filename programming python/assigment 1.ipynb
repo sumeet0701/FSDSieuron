{
 "cells": [
  {
   "cell_type": "markdown",
   "id": "c8b92d9e",
   "metadata": {},
   "source": [
    "1. write a program to print 'hello world'"
   ]
  },
  {
   "cell_type": "code",
   "execution_count": 1,
   "id": "9d104ba6",
   "metadata": {},
   "outputs": [
    {
     "name": "stdout",
     "output_type": "stream",
     "text": [
      "Hello World\n"
     ]
    }
   ],
   "source": [
    "print('Hello World')"
   ]
  },
  {
   "cell_type": "markdown",
   "id": "eef3cde5",
   "metadata": {},
   "source": [
    "Write a Python program to do arithmetical operations addition and division.?"
   ]
  },
  {
   "cell_type": "code",
   "execution_count": 4,
   "id": "13d13435",
   "metadata": {},
   "outputs": [
    {
     "name": "stdout",
     "output_type": "stream",
     "text": [
      "12\n",
      "12\n",
      "Addition of A and B =  24\n",
      "division of two number = 1.0\n"
     ]
    }
   ],
   "source": [
    "a = int(input())\n",
    "b = int(input())\n",
    "add = a+b\n",
    "print('Addition of A and B = ',add)\n",
    "div = a/b\n",
    "print('division of two number =',div)"
   ]
  },
  {
   "cell_type": "markdown",
   "id": "05153e8f",
   "metadata": {},
   "source": [
    "Write a Python program to find the area of a triangle?"
   ]
  },
  {
   "cell_type": "code",
   "execution_count": 5,
   "id": "7315474b",
   "metadata": {},
   "outputs": [
    {
     "name": "stdout",
     "output_type": "stream",
     "text": [
      "Enter the base value12\n",
      "Enter the Height of triangle12\n",
      "Area of triangle = 72.0\n"
     ]
    }
   ],
   "source": [
    "base = int(input('Enter the base value'))\n",
    "height = int(input('Enter the Height of triangle'))\n",
    "area = base*height*(1/2)\n",
    "print('Area of triangle =', area)"
   ]
  },
  {
   "cell_type": "markdown",
   "id": "ac04b621",
   "metadata": {},
   "source": [
    "Write a Python program to swap two variables?"
   ]
  },
  {
   "cell_type": "code",
   "execution_count": 6,
   "id": "3db577fc",
   "metadata": {},
   "outputs": [
    {
     "name": "stdout",
     "output_type": "stream",
     "text": [
      "1\n",
      "2\n",
      "swap of a = 2\n",
      "swap of b =  1\n"
     ]
    }
   ],
   "source": [
    "a = int(input())\n",
    "b = int(input()) \n",
    "a,b=b,a\n",
    "print('swap of a =',a)\n",
    "print('swap of b = ', b)"
   ]
  },
  {
   "cell_type": "markdown",
   "id": "181fb71f",
   "metadata": {},
   "source": [
    "Write a Python program to generate a random number?"
   ]
  },
  {
   "cell_type": "code",
   "execution_count": 8,
   "id": "7b73bc44",
   "metadata": {},
   "outputs": [
    {
     "name": "stdout",
     "output_type": "stream",
     "text": [
      "85\n"
     ]
    }
   ],
   "source": [
    "import random\n",
    "print(random.randint(0,100))"
   ]
  }
 ],
 "metadata": {
  "kernelspec": {
   "display_name": "Python 3 (ipykernel)",
   "language": "python",
   "name": "python3"
  },
  "language_info": {
   "codemirror_mode": {
    "name": "ipython",
    "version": 3
   },
   "file_extension": ".py",
   "mimetype": "text/x-python",
   "name": "python",
   "nbconvert_exporter": "python",
   "pygments_lexer": "ipython3",
   "version": "3.9.7"
  }
 },
 "nbformat": 4,
 "nbformat_minor": 5
}
