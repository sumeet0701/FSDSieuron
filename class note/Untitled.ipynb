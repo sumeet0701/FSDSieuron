{
 "cells": [
  {
   "cell_type": "code",
   "execution_count": 1,
   "id": "e9f9ca75",
   "metadata": {},
   "outputs": [],
   "source": [
    "# imports\n",
    "import math\n",
    "import numpy as np\n",
    "from numpy.random import randn\n",
    "from statsmodels.stats.weightstats import ztest"
   ]
  },
  {
   "cell_type": "code",
   "execution_count": 2,
   "id": "e45a11a5",
   "metadata": {},
   "outputs": [
    {
     "name": "stdout",
     "output_type": "stream",
     "text": [
      "mean=110.09 stdv=2.10\n"
     ]
    }
   ],
   "source": [
    "# Generate a random array of 50 numbers having mean 110 and sd 15\n",
    "# similar to the IQ scores data we assume above\n",
    "mean_iq = 110\n",
    "sd_iq = 15/math.sqrt(50)\n",
    "alpha =0.05\n",
    "null_mean =100\n",
    "data = sd_iq*randn(50)+mean_iq\n",
    "# print mean and sd\n",
    "print('mean=%.2f stdv=%.2f' % (np.mean(data), np.std(data)))"
   ]
  },
  {
   "cell_type": "code",
   "execution_count": 3,
   "id": "53f3cf2a",
   "metadata": {},
   "outputs": [],
   "source": [
    "# now we perform the test. In this function, we passed data, in the value parameter\n",
    "# we passed mean value in the null hypothesis, in alternative hypothesis we check whether the\n",
    "# mean is larger\n",
    "\n",
    "ztest_Score, p_value= ztest(data,value = null_mean, alternative='larger')\n",
    "# the function outputs a p_value and z-score corresponding to that value, we compare the\n",
    "# p-value with alpha, if it is greater than alpha then we do not null hypothesis\n",
    "# else we reject it."
   ]
  },
  {
   "cell_type": "code",
   "execution_count": 5,
   "id": "21ab16fe",
   "metadata": {},
   "outputs": [
    {
     "name": "stdout",
     "output_type": "stream",
     "text": [
      "Reject Null Hypothesis\n"
     ]
    }
   ],
   "source": [
    "if(p_value < alpha):\n",
    "    print(\"Reject Null Hypothesis\")\n",
    "else:\n",
    "    print(\"Fail to Reject NUll Hypothesis\")"
   ]
  },
  {
   "cell_type": "code",
   "execution_count": null,
   "id": "d7af890f",
   "metadata": {},
   "outputs": [],
   "source": []
  }
 ],
 "metadata": {
  "kernelspec": {
   "display_name": "Python 3 (ipykernel)",
   "language": "python",
   "name": "python3"
  },
  "language_info": {
   "codemirror_mode": {
    "name": "ipython",
    "version": 3
   },
   "file_extension": ".py",
   "mimetype": "text/x-python",
   "name": "python",
   "nbconvert_exporter": "python",
   "pygments_lexer": "ipython3",
   "version": "3.9.7"
  }
 },
 "nbformat": 4,
 "nbformat_minor": 5
}
