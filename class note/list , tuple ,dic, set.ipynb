{
 "cells": [
  {
   "cell_type": "code",
   "execution_count": 1,
   "id": "830b8dca",
   "metadata": {},
   "outputs": [],
   "source": [
    "l = [0,1,23,4,3,5,6,78,90]"
   ]
  },
  {
   "cell_type": "code",
   "execution_count": 2,
   "id": "51917a2b",
   "metadata": {},
   "outputs": [
    {
     "data": {
      "text/plain": [
       "1"
      ]
     },
     "execution_count": 2,
     "metadata": {},
     "output_type": "execute_result"
    }
   ],
   "source": [
    "l[1]"
   ]
  },
  {
   "cell_type": "code",
   "execution_count": 3,
   "id": "d7631a1b",
   "metadata": {},
   "outputs": [
    {
     "data": {
      "text/plain": [
       "90"
      ]
     },
     "execution_count": 3,
     "metadata": {},
     "output_type": "execute_result"
    }
   ],
   "source": [
    "l[-1]"
   ]
  },
  {
   "cell_type": "code",
   "execution_count": 4,
   "id": "94903a48",
   "metadata": {},
   "outputs": [
    {
     "data": {
      "text/plain": [
       "9"
      ]
     },
     "execution_count": 4,
     "metadata": {},
     "output_type": "execute_result"
    }
   ],
   "source": [
    "# to know the lenght of string \n",
    "len(l)"
   ]
  },
  {
   "cell_type": "code",
   "execution_count": 5,
   "id": "eec5ef26",
   "metadata": {},
   "outputs": [
    {
     "data": {
      "text/plain": [
       "[90, 78, 6, 5, 3, 4, 23, 1, 0]"
      ]
     },
     "execution_count": 5,
     "metadata": {},
     "output_type": "execute_result"
    }
   ],
   "source": [
    "# revese of list\n",
    "l[::-1]"
   ]
  },
  {
   "cell_type": "code",
   "execution_count": null,
   "id": "bfad2b7e",
   "metadata": {},
   "outputs": [],
   "source": []
  }
 ],
 "metadata": {
  "kernelspec": {
   "display_name": "Python 3 (ipykernel)",
   "language": "python",
   "name": "python3"
  },
  "language_info": {
   "codemirror_mode": {
    "name": "ipython",
    "version": 3
   },
   "file_extension": ".py",
   "mimetype": "text/x-python",
   "name": "python",
   "nbconvert_exporter": "python",
   "pygments_lexer": "ipython3",
   "version": "3.9.7"
  }
 },
 "nbformat": 4,
 "nbformat_minor": 5
}
